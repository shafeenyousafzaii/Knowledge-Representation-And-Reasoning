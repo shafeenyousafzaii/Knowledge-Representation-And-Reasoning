{
 "cells": [
  {
   "cell_type": "code",
   "execution_count": null,
   "metadata": {},
   "outputs": [
    {
     "name": "stdout",
     "output_type": "stream",
     "text": [
      "RDF data for Mars has been successfully saved to 'mars.rdf'.\n",
      "Subject: http://example.org/planet/Mars, Predicate: http://example.org/hasGlobalMagneticField, Object: No\n",
      "Subject: http://example.org/planet/Mars, Predicate: http://example.org/hasNumberOfMoons, Object: 2\n",
      "Subject: http://example.org/planet/Mars, Predicate: http://example.org/hasLengthOfDay, Object: 24.7\n",
      "Subject: http://example.org/planet/Mars, Predicate: http://example.org/hasDiameter, Object: 6792\n",
      "Subject: http://example.org/planet/Mars, Predicate: http://example.org/hasSurfaceFeatures, Object: Valles Marineris, Olympus Mons\n",
      "Subject: http://example.org/planet/Mars, Predicate: http://example.org/hasSurfaceGravity, Object: 3.7\n",
      "Subject: http://example.org/planet/Mars, Predicate: http://example.org/hasAtmosphericComposition, Object: Carbon Dioxide (95.3%)\n",
      "Subject: http://example.org/planet/Mars, Predicate: http://example.org/hasMeanTemperature, Object: -65\n",
      "Subject: http://example.org/planet/Mars, Predicate: http://example.org/hasRingSystem, Object: No\n",
      "Subject: http://example.org/planet/Mars, Predicate: http://example.org/hasSurfaceTemperature, Object: -153 to 20\n",
      "Subject: http://example.org/planet/Mars, Predicate: http://example.org/hasColor, Object: Red, Brown and Tan\n",
      "Subject: http://example.org/planet/Mars, Predicate: http://example.org/hasDistanceFromSun, Object: 228.0\n",
      "Subject: http://example.org/planet/Mars, Predicate: http://example.org/hasSurfacePressure, Object: 0.01\n",
      "Subject: http://example.org/planet/Mars, Predicate: http://example.org/hasEscapeVelocity, Object: 5.0\n",
      "Subject: http://example.org/planet/Mars, Predicate: http://example.org/hasDensity, Object: 3934\n",
      "Subject: http://example.org/planet/Mars, Predicate: http://example.org/hasMass, Object: 0.642\n",
      "Subject: http://example.org/planet/Mars, Predicate: http://example.org/hasRotationPeriod, Object: 24.6\n",
      "Subject: http://example.org/planet/Mars, Predicate: http://example.org/hasComposition, Object: Rock and Ice\n"
     ]
    }
   ],
   "source": [
    "import csv\n",
    "from rdflib import Graph, URIRef, Literal, Namespace\n",
    "import pandas as pd\n",
    "\n",
    "\n",
    "df = pd.read_csv(\"planets_updated.csv\")\n",
    "\n",
    "g = Graph()\n",
    "\n",
    "EX = Namespace(\"http://example.org/\")\n",
    "properties_mars = {\n",
    "    'Color': 'hasColor',\n",
    "    'Mass (10^24kg)': 'hasMass',\n",
    "    'Diameter (km)': 'hasDiameter',\n",
    "    'Density (kg/m^3)': 'hasDensity',\n",
    "    'Surface Gravity(m/s^2)': 'hasSurfaceGravity',\n",
    "    'Escape Velocity (km/s)': 'hasEscapeVelocity',\n",
    "    'Rotation Period (hours)': 'hasRotationPeriod',\n",
    "    'Length of Day (hours)': 'hasLengthOfDay',\n",
    "    'Distance from Sun (10^6 km)': 'hasDistanceFromSun',\n",
    "    'Mean Temperature (C)': 'hasMeanTemperature',\n",
    "    'Surface Pressure (bars)': 'hasSurfacePressure',\n",
    "    'Number of Moons': 'hasNumberOfMoons',\n",
    "    'Ring System?': 'hasRingSystem',\n",
    "    'Global Magnetic Field?': 'hasGlobalMagneticField',\n",
    "    'Surface Temperature (C)': 'hasSurfaceTemperature',\n",
    "    'Atmospheric Composition': 'hasAtmosphericComposition',\n",
    "    'Surface Features': 'hasSurfaceFeatures',\n",
    "    'Composition': 'hasComposition'\n",
    "}\n",
    "\n",
    "# Create RDF triples for Mars\n",
    "for index, row in df.iterrows():\n",
    "    planet_name = row['Planet']\n",
    "    \n",
    "    # Check if the current row corresponds to Mars\n",
    "    if planet_name == 'Mars':\n",
    "        planet_uri = URIRef(f\"http://example.org/planet/{planet_name.replace(' ', '_')}\")\n",
    "        \n",
    "        # Add properties as RDF triples\n",
    "        for csv_column, predicate in properties_mars.items():\n",
    "            value = row[csv_column]\n",
    "            \n",
    "            # Skip NaN values\n",
    "            if pd.isna(value):\n",
    "                continue  \n",
    "            \n",
    "            # Add triple to the graph\n",
    "            g.add((planet_uri, EX[predicate], Literal(value)))\n",
    "\n",
    "# Serialize the RDF data for Mars to a file\n",
    "output_file = \"mars.rdf\"\n",
    "g.serialize(destination=output_file, format='xml')\n",
    "\n",
    "print(f\"RDF data for Mars has been successfully saved to '{output_file}'.\")\n",
    "\n",
    "# Optional: Print the RDF triples\n",
    "for subj, pred, obj in g:\n",
    "    print(f\"Subject: {subj}, Predicate: {pred}, Object: {obj}\")\n"
   ]
  }
 ],
 "metadata": {
  "kernelspec": {
   "display_name": "Python 3",
   "language": "python",
   "name": "python3"
  },
  "language_info": {
   "codemirror_mode": {
    "name": "ipython",
    "version": 3
   },
   "file_extension": ".py",
   "mimetype": "text/x-python",
   "name": "python",
   "nbconvert_exporter": "python",
   "pygments_lexer": "ipython3",
   "version": "3.11.4"
  }
 },
 "nbformat": 4,
 "nbformat_minor": 2
}
